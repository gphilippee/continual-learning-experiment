{
 "cells": [
  {
   "attachments": {},
   "cell_type": "markdown",
   "metadata": {
    "collapsed": false
   },
   "source": [
    "# Continual learning - Rehearsal approch\n",
    "\n",
    "A small experiment with a convolutional network on MNIST and FashionMNIST datasets. The goal is to train the network on MNIST and then on FashionMNIST. The network should be able to learn both datasets without forgetting the first one. \n",
    "\n",
    "Compared to the previous experience, we adopt a rehearsal approach. At the end of each epoch when training on FashionMNIST, we train the model on 1 batch of data from MNIST.\n",
    "\n",
    "One disadvantage is that we need to keep in memory examples from previous task."
   ]
  },
  {
   "cell_type": "code",
   "execution_count": 51,
   "metadata": {
    "collapsed": true
   },
   "outputs": [],
   "source": [
    "import torch\n",
    "from torch import nn, optim\n",
    "import torchvision\n",
    "from torch.utils.data import DataLoader\n",
    "import matplotlib.pyplot as plt\n",
    "from sklearn.metrics import f1_score, log_loss\n",
    "import numpy as np"
   ]
  },
  {
   "cell_type": "code",
   "execution_count": 52,
   "metadata": {
    "collapsed": false
   },
   "outputs": [],
   "source": [
    "subsample = 10_000\n",
    "batch_size = 128\n",
    "\n",
    "mnist_epochs = 15\n",
    "fashion_epochs = 15\n",
    "\n",
    "mnist = True\n",
    "fashion = True\n",
    "rehearsal = True"
   ]
  },
  {
   "cell_type": "code",
   "execution_count": 53,
   "metadata": {
    "collapsed": false
   },
   "outputs": [
    {
     "name": "stdout",
     "output_type": "stream",
     "text": [
      "torch.Size([60000, 28, 28])\n"
     ]
    }
   ],
   "source": [
    "# import MNIST\n",
    "mnist_train_data = torchvision.datasets.MNIST(\n",
    "    root=\"./mnist\",\n",
    "    train=True,\n",
    "    transform=torchvision.transforms.ToTensor(),\n",
    "    download=True,\n",
    ")\n",
    "test_data = torchvision.datasets.MNIST(\n",
    "    root=\"./mnist\",\n",
    "    train=False,\n",
    "    transform=torchvision.transforms.ToTensor(),\n",
    "    download=True,\n",
    ")\n",
    "\n",
    "print(mnist_train_data.data.shape)\n",
    "\n",
    "# sample subsample images\n",
    "# train_data = torch.utils.data.Subset(train_data, range(subsample))\n",
    "# test_data = torch.utils.data.Subset(test_data, range(subsample))\n",
    "mnist_train_dataloader = DataLoader(\n",
    "    mnist_train_data, batch_size=batch_size, shuffle=True\n",
    ")\n",
    "mnist_test_dataloader = DataLoader(test_data, batch_size=batch_size, shuffle=True)"
   ]
  },
  {
   "cell_type": "code",
   "execution_count": 54,
   "metadata": {
    "collapsed": false
   },
   "outputs": [],
   "source": [
    "size = len(mnist_train_data)\n",
    "idxs = np.arange(size)\n",
    "np.random.shuffle(idxs)"
   ]
  },
  {
   "cell_type": "code",
   "execution_count": 55,
   "metadata": {
    "collapsed": false
   },
   "outputs": [],
   "source": [
    "rehearsal_dataloader = DataLoader(mnist_train_data, batch_size=batch_size, shuffle=True)"
   ]
  },
  {
   "cell_type": "code",
   "execution_count": 56,
   "metadata": {
    "collapsed": false
   },
   "outputs": [
    {
     "name": "stdout",
     "output_type": "stream",
     "text": [
      "torch.Size([60000, 28, 28])\n"
     ]
    }
   ],
   "source": [
    "# import FashionMNIST\n",
    "train_data = torchvision.datasets.FashionMNIST(\n",
    "    root=\"./fashion\",\n",
    "    train=True,\n",
    "    transform=torchvision.transforms.ToTensor(),\n",
    "    download=True,\n",
    ")\n",
    "test_data = torchvision.datasets.FashionMNIST(\n",
    "    root=\"./fashion\",\n",
    "    train=False,\n",
    "    transform=torchvision.transforms.ToTensor(),\n",
    "    download=True,\n",
    ")\n",
    "\n",
    "print(train_data.data.shape)\n",
    "\n",
    "# sample subsample images\n",
    "# train_data = torch.utils.data.Subset(train_data, range(subsample))\n",
    "# test_data = torch.utils.data.Subset(test_data, range(subsample))\n",
    "fashion_train_dataloader = DataLoader(train_data, batch_size=batch_size, shuffle=True)\n",
    "fashion_test_dataloader = DataLoader(test_data, batch_size=batch_size, shuffle=True)"
   ]
  },
  {
   "cell_type": "code",
   "execution_count": 57,
   "metadata": {
    "collapsed": false
   },
   "outputs": [],
   "source": [
    "class CNN(nn.Module):\n",
    "    def __init__(self):\n",
    "        super().__init__()\n",
    "        self.conv1 = nn.Conv2d(1, 16, 3)\n",
    "        self.conv2 = nn.Conv2d(16, 32, 3)\n",
    "        self.max_pool = nn.MaxPool2d(2)\n",
    "        self.fc1 = nn.Linear(12 * 12 * 32, 128)\n",
    "        self.fc2 = nn.Linear(128, 10)\n",
    "        self.drop = nn.Dropout(0.5)\n",
    "\n",
    "    def forward(self, x):\n",
    "        # convolutions\n",
    "        x = self.conv1(x)\n",
    "        x = self.max_pool(self.conv2(x))\n",
    "        # classifier\n",
    "        x = x.view(-1, 12 * 12 * 32)\n",
    "        x = torch.relu(self.fc1(x))\n",
    "        x = self.drop(x)\n",
    "        return torch.softmax(self.fc2(x), dim=1)"
   ]
  },
  {
   "cell_type": "code",
   "execution_count": 58,
   "metadata": {
    "collapsed": false
   },
   "outputs": [],
   "source": [
    "def evaluate_mnist(verbose=1):\n",
    "    cnn.eval()\n",
    "    # evaluate on test set and calculate f1 score\n",
    "    y_pred = torch.empty(0, dtype=torch.long)\n",
    "    y_test = torch.empty(0, dtype=torch.long)\n",
    "    for _, (X_batch, y_batch) in enumerate(mnist_test_dataloader):\n",
    "        output = cnn(X_batch)\n",
    "        y_pred = torch.cat((y_pred, torch.argmax(output, dim=1)))\n",
    "        y_test = torch.cat((y_test, y_batch))\n",
    "    if verbose:\n",
    "        print(\"MNIST - F1 score\", f1_score(y_test, y_pred, average=\"macro\"))\n",
    "    return f1_score(y_test, y_pred, average=\"macro\")"
   ]
  },
  {
   "cell_type": "code",
   "execution_count": 59,
   "metadata": {
    "collapsed": false
   },
   "outputs": [],
   "source": [
    "def evaluate_fashion(verbose=1):\n",
    "    cnn.eval()\n",
    "    # evaluate on test set and calculate f1 score\n",
    "    y_pred = torch.empty(0, dtype=torch.long)\n",
    "    y_test = torch.empty(0, dtype=torch.long)\n",
    "    for _, (X_batch, y_batch) in enumerate(fashion_test_dataloader):\n",
    "        output = cnn(X_batch)\n",
    "        y_pred = torch.cat((y_pred, torch.argmax(output, dim=1)))\n",
    "        y_test = torch.cat((y_test, y_batch))\n",
    "    if verbose:\n",
    "        print(\"Fashion - F1 score\", f1_score(y_test, y_pred, average=\"macro\"))\n",
    "    return f1_score(y_test, y_pred, average=\"macro\")"
   ]
  },
  {
   "cell_type": "code",
   "execution_count": 60,
   "metadata": {
    "collapsed": false
   },
   "outputs": [
    {
     "name": "stdout",
     "output_type": "stream",
     "text": [
      "--- MNIST ---\n",
      "Epoch 0 - loss 1.573501467704773\n",
      "Epoch 1 - loss 1.46621572971344\n",
      "Epoch 2 - loss 1.4935460090637207\n",
      "Epoch 3 - loss 1.5094934701919556\n",
      "Epoch 4 - loss 1.4721031188964844\n",
      "Epoch 5 - loss 1.472331166267395\n",
      "Epoch 6 - loss 1.4721101522445679\n",
      "Epoch 7 - loss 1.4611951112747192\n",
      "Epoch 8 - loss 1.471707820892334\n",
      "Epoch 9 - loss 1.4664506912231445\n",
      "Epoch 10 - loss 1.464025616645813\n",
      "Epoch 11 - loss 1.4611543416976929\n",
      "Epoch 12 - loss 1.4622139930725098\n",
      "Epoch 13 - loss 1.4928981065750122\n",
      "Epoch 14 - loss 1.461150050163269\n",
      "--- Scores ---\n",
      "Fashion - F1 score 0.05807257635226106\n",
      "MNIST - F1 score 0.9817788816285761\n"
     ]
    }
   ],
   "source": [
    "cnn = CNN()\n",
    "\n",
    "criterion = nn.CrossEntropyLoss()\n",
    "optimizer = optim.Adam(cnn.parameters(), lr=1e-3)\n",
    "\n",
    "mnist_scores = []\n",
    "fashion_scores = []\n",
    "\n",
    "# MNIST\n",
    "mnist_losses = []\n",
    "if mnist:\n",
    "    print(\"--- MNIST ---\")\n",
    "    cnn.train()\n",
    "    for epoch in range(mnist_epochs):\n",
    "        for _, (X_batch, y_batch) in enumerate(mnist_train_dataloader):\n",
    "            optimizer.zero_grad()\n",
    "            output = cnn(X_batch)\n",
    "            loss = criterion(output, y_batch)\n",
    "            loss.backward()\n",
    "            optimizer.step()\n",
    "\n",
    "        print(f\"Epoch {epoch} - loss\", loss.item())\n",
    "        mnist_losses.append(loss.item())\n",
    "        mnist_scores.append(evaluate_mnist(verbose=0))\n",
    "        fashion_scores.append(evaluate_fashion(verbose=0))\n",
    "\n",
    "    print(\"--- Scores ---\")\n",
    "    evaluate_fashion()\n",
    "    evaluate_mnist()"
   ]
  },
  {
   "cell_type": "code",
   "execution_count": 63,
   "metadata": {
    "collapsed": false
   },
   "outputs": [],
   "source": [
    "rehearsal_iter = iter(rehearsal_dataloader)"
   ]
  },
  {
   "cell_type": "code",
   "execution_count": 64,
   "metadata": {
    "collapsed": false
   },
   "outputs": [
    {
     "name": "stdout",
     "output_type": "stream",
     "text": [
      "--- FashionMNIST ---\n",
      "Epoch 0 - loss 2.002872943878174\n",
      "Epoch 1 - loss 1.8513586521148682\n",
      "Epoch 2 - loss 1.720594882965088\n",
      "Epoch 3 - loss 1.8200469017028809\n",
      "Epoch 4 - loss 1.9414029121398926\n",
      "Epoch 5 - loss 1.8218204975128174\n",
      "Epoch 6 - loss 2.0072548389434814\n",
      "Epoch 7 - loss 1.8435057401657104\n",
      "Epoch 8 - loss 1.7667417526245117\n",
      "Epoch 9 - loss 1.8765274286270142\n",
      "Epoch 10 - loss 1.8401862382888794\n",
      "Epoch 11 - loss 1.9390755891799927\n",
      "Epoch 12 - loss 1.9804574251174927\n",
      "Epoch 13 - loss 2.0606133937835693\n",
      "Epoch 14 - loss 1.9130058288574219\n",
      "--- Scores ---\n",
      "MNIST - F1 score 0.5448806606879052\n",
      "Fashion - F1 score 0.8753399284949062\n"
     ]
    }
   ],
   "source": [
    "# FashionMNIST\n",
    "if fashion:\n",
    "    print(\"--- FashionMNIST ---\")\n",
    "\n",
    "    cnn.train()\n",
    "    for epoch in range(fashion_epochs):\n",
    "        for _, (X_batch, y_batch) in enumerate(fashion_train_dataloader):\n",
    "            optimizer.zero_grad()\n",
    "            output = cnn(X_batch)\n",
    "            loss = criterion(output, y_batch)\n",
    "            loss.backward()\n",
    "            optimizer.step()\n",
    "\n",
    "        if rehearsal:\n",
    "            # at the end of an epoch, retrain on random samples from MNIST\n",
    "            X_batch, y_batch = next(rehearsal_iter)\n",
    "            optimizer.zero_grad()\n",
    "            output = cnn(X_batch)\n",
    "            loss = criterion(output, y_batch)\n",
    "            loss.backward()\n",
    "            optimizer.step()\n",
    "\n",
    "        mnist_scores.append(evaluate_mnist(verbose=0))\n",
    "        fashion_scores.append(evaluate_fashion(verbose=0))\n",
    "        print(f\"Epoch {epoch} - loss\", loss.item())\n",
    "\n",
    "    print(\"--- Scores ---\")\n",
    "    evaluate_mnist()\n",
    "    evaluate_fashion()"
   ]
  },
  {
   "cell_type": "code",
   "execution_count": 68,
   "metadata": {
    "collapsed": false
   },
   "outputs": [
    {
     "data": {
      "image/png": "[encoded data removed]",
      "text/plain": [
       "<Figure size 640x480 with 1 Axes>"
      ]
     },
     "metadata": {},
     "output_type": "display_data"
    }
   ],
   "source": [
    "plt.figure()\n",
    "plt.plot(mnist_scores, label=\"MNIST\")\n",
    "plt.plot(fashion_scores, label=\"FashionMNIST\")\n",
    "plt.bar(mnist_epochs - 1, height=1, width=0.2, color=\"r\")\n",
    "plt.xlabel(\"Epoch\")\n",
    "plt.ylabel(\"F1 score\")\n",
    "plt.legend()\n",
    "# savefig\n",
    "plt.savefig(\"results_cnn_rehearsal.png\")\n",
    "plt.show()"
   ]
  }
 ],
 "metadata": {
  "kernelspec": {
   "display_name": "Python 3",
   "language": "python",
   "name": "python3"
  },
  "language_info": {
   "codemirror_mode": {
    "name": "ipython",
    "version": 2
   },
   "file_extension": ".py",
   "mimetype": "text/x-python",
   "name": "python",
   "nbconvert_exporter": "python",
   "pygments_lexer": "ipython2",
   "version": "2.7.6"
  }
 },
 "nbformat": 4,
 "nbformat_minor": 0
}
