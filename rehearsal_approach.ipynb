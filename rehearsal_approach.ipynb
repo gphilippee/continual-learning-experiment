{
 "cells": [
  {
   "cell_type": "markdown",
   "metadata": {
    "collapsed": false,
    "id": "ZBxKk52PXjZg"
   },
   "source": [
    "# Continual learning - Rehearsal approch\n",
    "\n",
    "A small experiment with a convolutional network on MNIST and FashionMNIST datasets. The goal is to train the network on MNIST and then on FashionMNIST. The network should be able to learn both datasets without forgetting the first one. \n",
    "\n",
    "Compared to the previous experience, we adopt a rehearsal approach. At the end of each epoch when training on FashionMNIST, we train the model on 1 batch of data from MNIST.\n",
    "\n",
    "One disadvantage is that we need to keep in memory examples from previous task."
   ]
  },
  {
   "cell_type": "code",
   "execution_count": 123,
   "metadata": {
    "collapsed": true,
    "id": "AWYo4CzdXjZn"
   },
   "outputs": [],
   "source": [
    "import torch\n",
    "from torch import nn, optim\n",
    "import torchvision\n",
    "from torch.utils.data import DataLoader\n",
    "import matplotlib.pyplot as plt\n",
    "from sklearn.metrics import f1_score, log_loss\n",
    "import numpy as np"
   ]
  },
  {
   "cell_type": "code",
   "execution_count": 124,
   "metadata": {
    "id": "xsNY2jyJXjZp"
   },
   "outputs": [],
   "source": [
    "batch_size = 128\n",
    "\n",
    "mnist_epochs = 15\n",
    "fashion_epochs = 15\n",
    "\n",
    "mnist = True\n",
    "fashion = True\n",
    "rehearsal = True\n",
    "rehearsal_size = 4096"
   ]
  },
  {
   "cell_type": "code",
   "source": [
    "device = torch.device(\"cuda\" if torch.cuda.is_available() else \"cpu\")"
   ],
   "metadata": {
    "id": "hG8T5PyjcWiO"
   },
   "execution_count": 125,
   "outputs": []
  },
  {
   "cell_type": "code",
   "execution_count": 126,
   "metadata": {
    "colab": {
     "base_uri": "https://localhost:8080/"
    },
    "id": "wrchR8IAXjZq",
    "outputId": "b4532123-b277-4965-f947-a28cc04a060f"
   },
   "outputs": [
    {
     "output_type": "stream",
     "name": "stdout",
     "text": [
      "torch.Size([60000, 28, 28])\n"
     ]
    }
   ],
   "source": [
    "# import MNIST\n",
    "mnist_train_data = torchvision.datasets.MNIST(\n",
    "    root=\"./mnist\",\n",
    "    train=True,\n",
    "    transform=torchvision.transforms.ToTensor(),\n",
    "    download=True,\n",
    ")\n",
    "test_data = torchvision.datasets.MNIST(\n",
    "    root=\"./mnist\",\n",
    "    train=False,\n",
    "    transform=torchvision.transforms.ToTensor(),\n",
    "    download=True,\n",
    ")\n",
    "\n",
    "print(mnist_train_data.data.shape)\n",
    "\n",
    "# sample subsample images\n",
    "# train_data = torch.utils.data.Subset(train_data, range(subsample))\n",
    "# test_data = torch.utils.data.Subset(test_data, range(subsample))\n",
    "mnist_train_dataloader = DataLoader(\n",
    "    mnist_train_data, batch_size=batch_size, shuffle=True\n",
    ")\n",
    "mnist_test_dataloader = DataLoader(test_data, batch_size=batch_size, shuffle=True)"
   ]
  },
  {
   "cell_type": "code",
   "execution_count": 127,
   "metadata": {
    "id": "qjJzinDQXjZr"
   },
   "outputs": [],
   "source": [
    "idxs = np.arange(60_000)\n",
    "np.random.shuffle(idxs)\n",
    "\n",
    "rehearsal_data = torch.utils.data.Subset(mnist_train_data, idxs[:rehearsal_size])\n",
    "rehearsal_dataloader = DataLoader(rehearsal_data, batch_size=batch_size, shuffle=True)"
   ]
  },
  {
   "cell_type": "code",
   "execution_count": 128,
   "metadata": {
    "colab": {
     "base_uri": "https://localhost:8080/"
    },
    "id": "VqB6MT-qXjZs",
    "outputId": "b1ff5f76-cc65-49b3-9fdf-0a404ef258e8"
   },
   "outputs": [
    {
     "output_type": "stream",
     "name": "stdout",
     "text": [
      "torch.Size([60000, 28, 28])\n"
     ]
    }
   ],
   "source": [
    "# import FashionMNIST\n",
    "train_data = torchvision.datasets.FashionMNIST(\n",
    "    root=\"./fashion\",\n",
    "    train=True,\n",
    "    transform=torchvision.transforms.ToTensor(),\n",
    "    download=True,\n",
    ")\n",
    "test_data = torchvision.datasets.FashionMNIST(\n",
    "    root=\"./fashion\",\n",
    "    train=False,\n",
    "    transform=torchvision.transforms.ToTensor(),\n",
    "    download=True,\n",
    ")\n",
    "\n",
    "print(train_data.data.shape)\n",
    "\n",
    "# sample subsample images\n",
    "# train_data = torch.utils.data.Subset(train_data, range(subsample))\n",
    "# test_data = torch.utils.data.Subset(test_data, range(subsample))\n",
    "fashion_train_dataloader = DataLoader(train_data, batch_size=batch_size, shuffle=True)\n",
    "fashion_test_dataloader = DataLoader(test_data, batch_size=batch_size, shuffle=True)"
   ]
  },
  {
   "cell_type": "code",
   "execution_count": 129,
   "metadata": {
    "id": "vNgyEdbLXjZs"
   },
   "outputs": [],
   "source": [
    "class NN(nn.Module):\n",
    "    def __init__(self):\n",
    "        super().__init__()\n",
    "        self.fc1 = nn.Linear(784, 4096)\n",
    "        self.bn1 = nn.BatchNorm1d(4096)\n",
    "\n",
    "        self.fc2 = nn.Linear(4096, 4096)\n",
    "        self.bn2 = nn.BatchNorm1d(4096)\n",
    "\n",
    "        self.fc3 = nn.Linear(4096, 10)\n",
    "        self.bn3 = nn.BatchNorm1d(10)\n",
    "\n",
    "    def forward(self, x):\n",
    "        x = x.view(-1, 784)\n",
    "        x = self.bn1(self.fc1(x))\n",
    "        x = self.bn2(self.fc2(x))\n",
    "        return torch.softmax(self.bn3(self.fc3(x)), dim=1)"
   ]
  },
  {
   "cell_type": "code",
   "source": [
    "class CNN(nn.Module):\n",
    "    def __init__(self):\n",
    "        super().__init__()\n",
    "        self.conv1 = nn.Conv2d(1, 32, kernel_size=5, padding=2, stride=2, bias=False)\n",
    "        self.conv2 = nn.Conv2d(32, 64, kernel_size=4, padding=2, stride=2, bias=False)\n",
    "        self.bn1 = nn.BatchNorm2d(32)\n",
    "        self.bn2 = nn.BatchNorm2d(64)\n",
    "\n",
    "        self.fc1 = nn.Linear(64 * 64, 10)\n",
    "        self.bn3 = nn.BatchNorm1d(10)\n",
    "\n",
    "    def forward(self, x):\n",
    "        # convolutions\n",
    "        x = self.bn1(self.conv1(x))\n",
    "        x = torch.relu(x)\n",
    "        x = self.bn2(self.conv2(x))\n",
    "        x = torch.relu(x)\n",
    "        # classifier - MNIST\n",
    "        x = x.view(x.size(0), -1)\n",
    "        return torch.softmax(self.bn3(self.fc1(x)), dim=1)"
   ],
   "metadata": {
    "id": "TM91fgZIqCYR"
   },
   "execution_count": 130,
   "outputs": []
  },
  {
   "cell_type": "code",
   "execution_count": 131,
   "metadata": {
    "id": "CfGYSfE1XjZt"
   },
   "outputs": [],
   "source": [
    "def evaluate_mnist(verbose=1):\n",
    "    cnn.eval()\n",
    "    # evaluate on test set and calculate f1 score\n",
    "    y_pred = torch.empty(0, dtype=torch.long).to(device)\n",
    "    y_test = torch.empty(0, dtype=torch.long).to(device)\n",
    "    for _, (X_batch, y_batch) in enumerate(mnist_test_dataloader):\n",
    "        X_batch, y_batch = X_batch.to(device), y_batch.to(device)\n",
    "        output = cnn(X_batch)\n",
    "        y_pred = torch.cat((y_pred, torch.argmax(output, dim=1)))\n",
    "        y_test = torch.cat((y_test, y_batch))\n",
    "    score = f1_score(y_test.cpu(), y_pred.cpu(), average=\"macro\")\n",
    "    if verbose:\n",
    "        print(\"Fashion - F1 score\", score)\n",
    "    return score"
   ]
  },
  {
   "cell_type": "code",
   "execution_count": 132,
   "metadata": {
    "id": "jqUbYJfQXjZu"
   },
   "outputs": [],
   "source": [
    "def evaluate_fashion(verbose=1):\n",
    "    cnn.eval()\n",
    "    # evaluate on test set and calculate f1 score\n",
    "    y_pred = torch.empty(0, dtype=torch.long).to(device)\n",
    "    y_test = torch.empty(0, dtype=torch.long).to(device)\n",
    "    for _, (X_batch, y_batch) in enumerate(fashion_test_dataloader):\n",
    "        X_batch, y_batch = X_batch.to(device), y_batch.to(device)\n",
    "        output = cnn(X_batch)\n",
    "        y_pred = torch.cat((y_pred, torch.argmax(output, dim=1)))\n",
    "        y_test = torch.cat((y_test, y_batch))\n",
    "    score = f1_score(y_test.cpu(), y_pred.cpu(), average=\"macro\")\n",
    "    if verbose:\n",
    "        print(\"Fashion - F1 score\", score)\n",
    "    return score"
   ]
  },
  {
   "cell_type": "code",
   "execution_count": 133,
   "metadata": {
    "colab": {
     "base_uri": "https://localhost:8080/"
    },
    "id": "CqSGvHO6XjZv",
    "outputId": "e6a6ecc1-b51e-4b37-f8b1-2a51242c34b8"
   },
   "outputs": [
    {
     "output_type": "stream",
     "name": "stdout",
     "text": [
      "--- MNIST ---\n",
      "Epoch 0 - loss 1.7627573013305664\n",
      "Epoch 1 - loss 1.5966633558273315\n",
      "Epoch 2 - loss 1.5352715253829956\n",
      "Epoch 3 - loss 1.5644397735595703\n",
      "Epoch 4 - loss 1.565083622932434\n",
      "Epoch 5 - loss 1.5638993978500366\n",
      "Epoch 6 - loss 1.5859394073486328\n",
      "Epoch 7 - loss 1.6263598203659058\n",
      "Epoch 8 - loss 1.5762680768966675\n",
      "Epoch 9 - loss 1.6018701791763306\n",
      "Epoch 10 - loss 1.627760887145996\n",
      "Epoch 11 - loss 1.596528172492981\n",
      "Epoch 12 - loss 1.5990341901779175\n",
      "Epoch 13 - loss 1.5965681076049805\n",
      "Epoch 14 - loss 1.6277209520339966\n",
      "--- Scores ---\n",
      "Fashion - F1 score 0.03976558121777974\n",
      "Fashion - F1 score 0.8303396861143544\n"
     ]
    }
   ],
   "source": [
    "cnn = NN().to(device)\n",
    "\n",
    "criterion = nn.CrossEntropyLoss()\n",
    "optimizer = optim.Adam(cnn.parameters(), lr=1e-3)\n",
    "\n",
    "mnist_scores = []\n",
    "fashion_scores = []\n",
    "\n",
    "# MNIST\n",
    "mnist_losses = []\n",
    "if mnist:\n",
    "    print(\"--- MNIST ---\")\n",
    "    cnn.train()\n",
    "    for epoch in range(mnist_epochs):\n",
    "        for _, (X_batch, y_batch) in enumerate(mnist_train_dataloader):\n",
    "            X_batch, y_batch = X_batch.to(device), y_batch.to(device)\n",
    "            optimizer.zero_grad()\n",
    "            output = cnn(X_batch)\n",
    "            loss = criterion(output, y_batch)\n",
    "            loss.backward()\n",
    "            optimizer.step()\n",
    "\n",
    "        print(f\"Epoch {epoch} - loss\", loss.item())\n",
    "        mnist_losses.append(loss.item())\n",
    "        mnist_scores.append(evaluate_mnist(verbose=0))\n",
    "        fashion_scores.append(evaluate_fashion(verbose=0))\n",
    "\n",
    "    print(\"--- Scores ---\")\n",
    "    evaluate_fashion()\n",
    "    evaluate_mnist()"
   ]
  },
  {
   "cell_type": "code",
   "execution_count": 134,
   "metadata": {
    "colab": {
     "base_uri": "https://localhost:8080/"
    },
    "id": "YNIv_wRFXjZw",
    "outputId": "d1a41f66-29e7-4214-9232-f417b030334a"
   },
   "outputs": [
    {
     "output_type": "stream",
     "name": "stdout",
     "text": [
      "--- FashionMNIST ---\n",
      "Epoch 0 - loss 1.9008831977844238\n",
      "Epoch 1 - loss 1.7692569494247437\n",
      "Epoch 2 - loss 1.7278555631637573\n",
      "Epoch 3 - loss 1.7245539426803589\n",
      "Epoch 4 - loss 1.675480842590332\n",
      "Epoch 5 - loss 1.6935821771621704\n",
      "Epoch 6 - loss 1.7174725532531738\n",
      "Epoch 7 - loss 1.6678684949874878\n",
      "Epoch 8 - loss 1.7054095268249512\n",
      "Epoch 9 - loss 1.612975835800171\n",
      "Epoch 10 - loss 1.6426078081130981\n",
      "Epoch 11 - loss 1.6784453392028809\n",
      "Epoch 12 - loss 1.5847963094711304\n",
      "Epoch 13 - loss 1.6532871723175049\n",
      "Epoch 14 - loss 1.6256945133209229\n",
      "--- Scores ---\n",
      "Fashion - F1 score 0.7927265227257292\n",
      "Fashion - F1 score 0.8119821936429423\n"
     ]
    }
   ],
   "source": [
    "# FashionMNIST\n",
    "if fashion:\n",
    "    print(\"--- FashionMNIST ---\")\n",
    "\n",
    "    cnn.train()\n",
    "    for epoch in range(fashion_epochs):\n",
    "        for _, (X_batch, y_batch) in enumerate(fashion_train_dataloader):\n",
    "            X_batch, y_batch = X_batch.to(device), y_batch.to(device)\n",
    "            optimizer.zero_grad()\n",
    "            output = cnn(X_batch)\n",
    "            loss = criterion(output, y_batch)\n",
    "            loss.backward()\n",
    "            optimizer.step()\n",
    "\n",
    "        if rehearsal:\n",
    "            # at the end of an epoch, retrain on random samples from MNIST\n",
    "            for _, (X_batch, y_batch) in enumerate(rehearsal_dataloader):\n",
    "                X_batch, y_batch = X_batch.to(device), y_batch.to(device)\n",
    "                optimizer.zero_grad()\n",
    "                output = cnn(X_batch)\n",
    "                loss = criterion(output, y_batch)\n",
    "                loss.backward()\n",
    "                optimizer.step()\n",
    "\n",
    "        mnist_scores.append(evaluate_mnist(verbose=0))\n",
    "        fashion_scores.append(evaluate_fashion(verbose=0))\n",
    "        print(f\"Epoch {epoch} - loss\", loss.item())\n",
    "\n",
    "    print(\"--- Scores ---\")\n",
    "    evaluate_mnist()\n",
    "    evaluate_fashion()"
   ]
  },
  {
   "cell_type": "code",
   "execution_count": 136,
   "metadata": {
    "colab": {
     "base_uri": "https://localhost:8080/",
     "height": 279
    },
    "id": "6vOoQuIBXjZw",
    "outputId": "735127aa-65a9-4897-c295-040205960f62"
   },
   "outputs": [
    {
     "output_type": "display_data",
     "data": {
      "text/plain": [
       "<Figure size 432x288 with 1 Axes>"
      ],
      "image/png": "[encoded data removed]"
     },
     "metadata": {
      "needs_background": "light"
     }
    }
   ],
   "source": [
    "plt.figure()\n",
    "plt.plot(mnist_scores, label=\"MNIST\")\n",
    "plt.plot(fashion_scores, label=\"FashionMNIST\")\n",
    "plt.bar(mnist_epochs - 1, height=1, width=0.2, color=\"r\")\n",
    "plt.xlabel(\"Epoch\")\n",
    "plt.ylabel(\"F1 score\")\n",
    "plt.legend()\n",
    "# savefig\n",
    "plt.savefig(\"rehearsal.png\")\n",
    "plt.show()"
   ]
  }
 ],
 "metadata": {
  "kernelspec": {
   "display_name": "Python 3",
   "language": "python",
   "name": "python3"
  },
  "language_info": {
   "codemirror_mode": {
    "name": "ipython",
    "version": 2
   },
   "file_extension": ".py",
   "mimetype": "text/x-python",
   "name": "python",
   "nbconvert_exporter": "python",
   "pygments_lexer": "ipython2",
   "version": "2.7.6"
  },
  "colab": {
   "provenance": []
  },
  "accelerator": "GPU",
  "gpuClass": "standard"
 },
 "nbformat": 4,
 "nbformat_minor": 0
}
