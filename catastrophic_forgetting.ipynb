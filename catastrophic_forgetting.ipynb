{
 "cells": [
  {
   "cell_type": "markdown",
   "source": [
    "# Continual learning\n",
    "\n",
    "A small experiment with a convolutional network on MNIST and FashionMNIST datasets. The goal is to train the network on MNIST and then on FashionMNIST. The network should be able to learn both datasets without forgetting the first one. We want to observe the catastrophic forgetting phenomenon. In our case, when performance increase on FashionMNIST, it decreases on MNIST."
   ],
   "metadata": {
    "collapsed": false,
    "id": "3SehfXkcXa_D"
   }
  },
  {
   "cell_type": "code",
   "execution_count": null,
   "metadata": {
    "collapsed": true,
    "id": "irX4n2Q6Xa_L"
   },
   "outputs": [],
   "source": [
    "import torch\n",
    "from torch import nn, optim\n",
    "import torchvision\n",
    "from torch.utils.data import DataLoader\n",
    "import matplotlib.pyplot as plt\n",
    "from sklearn.metrics import f1_score, log_loss"
   ]
  },
  {
   "cell_type": "code",
   "execution_count": null,
   "outputs": [],
   "source": [
    "batch_size = 128\n",
    "mnist_epochs = 15\n",
    "fashion_epochs = 15\n",
    "mnist = True\n",
    "fashion = True"
   ],
   "metadata": {
    "id": "kot0x1o-Xa_M"
   }
  },
  {
   "cell_type": "code",
   "source": [
    "device = torch.device(\"cuda\" if torch.cuda.is_available() else \"cpu\")"
   ],
   "metadata": {
    "id": "9YTHDxQAamal"
   },
   "execution_count": null,
   "outputs": []
  },
  {
   "cell_type": "code",
   "execution_count": null,
   "outputs": [
    {
     "output_type": "stream",
     "name": "stdout",
     "text": [
      "torch.Size([60000, 28, 28])\n"
     ]
    }
   ],
   "source": [
    "# import MNIST\n",
    "train_data = torchvision.datasets.MNIST(\n",
    "    root=\"./mnist\",\n",
    "    train=True,\n",
    "    transform=torchvision.transforms.ToTensor(),\n",
    "    download=True,\n",
    ")\n",
    "test_data = torchvision.datasets.MNIST(\n",
    "    root=\"./mnist\",\n",
    "    train=False,\n",
    "    transform=torchvision.transforms.ToTensor(),\n",
    "    download=True,\n",
    ")\n",
    "\n",
    "print(train_data.data.shape)\n",
    "\n",
    "mnist_train_dataloader = DataLoader(train_data, batch_size=batch_size, shuffle=True)\n",
    "mnist_test_dataloader = DataLoader(test_data, batch_size=batch_size, shuffle=True)"
   ],
   "metadata": {
    "colab": {
     "base_uri": "https://localhost:8080/"
    },
    "id": "pfVC6DX0Xa_O",
    "outputId": "89c8f674-974a-429c-816c-8c413262b645"
   }
  },
  {
   "cell_type": "code",
   "execution_count": null,
   "outputs": [
    {
     "output_type": "stream",
     "name": "stdout",
     "text": [
      "torch.Size([60000, 28, 28])\n"
     ]
    }
   ],
   "source": [
    "# import FashionMNIST\n",
    "train_data = torchvision.datasets.FashionMNIST(\n",
    "    root=\"./fashion\",\n",
    "    train=True,\n",
    "    transform=torchvision.transforms.ToTensor(),\n",
    "    download=True,\n",
    ")\n",
    "test_data = torchvision.datasets.FashionMNIST(\n",
    "    root=\"./fashion\",\n",
    "    train=False,\n",
    "    transform=torchvision.transforms.ToTensor(),\n",
    "    download=True,\n",
    ")\n",
    "\n",
    "print(train_data.data.shape)\n",
    "\n",
    "fashion_train_dataloader = DataLoader(train_data, batch_size=batch_size, shuffle=True)\n",
    "fashion_test_dataloader = DataLoader(test_data, batch_size=batch_size, shuffle=True)"
   ],
   "metadata": {
    "colab": {
     "base_uri": "https://localhost:8080/"
    },
    "id": "SDYcdIs6Xa_S",
    "outputId": "49357acb-2fb3-45fa-da99-22f4a20ff52f"
   }
  },
  {
   "cell_type": "code",
   "execution_count": null,
   "outputs": [],
   "source": [
    "class NN(nn.Module):\n",
    "    def __init__(self):\n",
    "        super().__init__()\n",
    "        self.fc1 = nn.Linear(784, 4096)\n",
    "        self.bn1 = nn.BatchNorm1d(4096)\n",
    "\n",
    "        self.fc2 = nn.Linear(4096, 4096)\n",
    "        self.bn2 = nn.BatchNorm1d(4096)\n",
    "\n",
    "        self.fc3 = nn.Linear(4096, 10)\n",
    "        self.bn3 = nn.BatchNorm1d(10)\n",
    "\n",
    "    def forward(self, x):\n",
    "        x = x.view(-1, 784)\n",
    "        x = self.bn1(self.fc1(x))\n",
    "        x = self.bn2(self.fc2(x))\n",
    "        return torch.softmax(self.bn3(self.fc3(x)), dim=1)"
   ],
   "metadata": {
    "id": "17jcAf3_Xa_Y"
   }
  },
  {
   "cell_type": "code",
   "execution_count": null,
   "outputs": [],
   "source": [
    "def evaluate_mnist(verbose=1):\n",
    "    cnn.eval()\n",
    "    # evaluate on test set and calculate f1 score\n",
    "    y_pred = torch.empty(0, dtype=torch.long).to(device)\n",
    "    y_test = torch.empty(0, dtype=torch.long).to(device)\n",
    "    for _, (X_batch, y_batch) in enumerate(mnist_test_dataloader):\n",
    "        X_batch, y_batch = X_batch.to(device), y_batch.to(device)\n",
    "        output = cnn(X_batch)\n",
    "        y_pred = torch.cat((y_pred, torch.argmax(output, dim=1)))\n",
    "        y_test = torch.cat((y_test, y_batch))\n",
    "    score = f1_score(y_test.cpu(), y_pred.cpu(), average=\"macro\")\n",
    "    if verbose:\n",
    "        print(\"MNIST - F1 score\", score)\n",
    "    return score"
   ],
   "metadata": {
    "id": "8eXRM3s-Xa_Z"
   }
  },
  {
   "cell_type": "code",
   "execution_count": null,
   "outputs": [],
   "source": [
    "def evaluate_fashion(verbose=1):\n",
    "    cnn.eval()\n",
    "    # evaluate on test set and calculate f1 score\n",
    "    y_pred = torch.empty(0, dtype=torch.long).to(device)\n",
    "    y_test = torch.empty(0, dtype=torch.long).to(device)\n",
    "    for _, (X_batch, y_batch) in enumerate(fashion_test_dataloader):\n",
    "        X_batch, y_batch = X_batch.to(device), y_batch.to(device)\n",
    "        output = cnn(X_batch)\n",
    "        y_pred = torch.cat((y_pred, torch.argmax(output, dim=1)))\n",
    "        y_test = torch.cat((y_test, y_batch))\n",
    "    score = f1_score(y_test.cpu(), y_pred.cpu(), average=\"macro\")\n",
    "    if verbose:\n",
    "        print(\"Fashion - F1 score\", score)\n",
    "    return score"
   ],
   "metadata": {
    "id": "VfJ6z9gnXa_a"
   }
  },
  {
   "cell_type": "code",
   "execution_count": null,
   "outputs": [
    {
     "output_type": "stream",
     "name": "stdout",
     "text": [
      "--- MNIST ---\n",
      "Epoch 0 - loss 1.7610942125320435\n",
      "Epoch 1 - loss 1.6083394289016724\n",
      "Epoch 2 - loss 1.5967389345169067\n",
      "Epoch 3 - loss 1.5552501678466797\n",
      "Epoch 4 - loss 1.5549801588058472\n",
      "Epoch 5 - loss 1.6799181699752808\n",
      "Epoch 6 - loss 1.5757337808609009\n",
      "Epoch 7 - loss 1.547078013420105\n",
      "Epoch 8 - loss 1.6234513521194458\n",
      "Epoch 9 - loss 1.6174006462097168\n",
      "Epoch 10 - loss 1.6694855690002441\n",
      "Epoch 11 - loss 1.6590666770935059\n",
      "Epoch 12 - loss 1.6590672731399536\n",
      "Epoch 13 - loss 1.627817153930664\n",
      "Epoch 14 - loss 1.5946282148361206\n",
      "--- Scores ---\n",
      "Fashion - F1 score 0.07055434300894001\n",
      "MNIST - F1 score 0.8589334945590226\n",
      "--- FashionMNIST ---\n",
      "Epoch 0 - loss 1.9543066024780273\n",
      "Epoch 1 - loss 1.6815333366394043\n",
      "Epoch 2 - loss 1.6843434572219849\n",
      "Epoch 3 - loss 1.6507102251052856\n",
      "Epoch 4 - loss 1.6207560300827026\n",
      "Epoch 5 - loss 1.645619511604309\n",
      "Epoch 6 - loss 1.603488564491272\n",
      "Epoch 7 - loss 1.6619213819503784\n",
      "Epoch 8 - loss 1.6103252172470093\n",
      "Epoch 9 - loss 1.6359186172485352\n",
      "Epoch 10 - loss 1.635645866394043\n",
      "Epoch 11 - loss 1.6104235649108887\n",
      "Epoch 12 - loss 1.5875139236450195\n",
      "Epoch 13 - loss 1.5929523706436157\n",
      "Epoch 14 - loss 1.6325541734695435\n",
      "--- Scores ---\n",
      "MNIST - F1 score 0.07987857017943852\n",
      "Fashion - F1 score 0.8363295678058227\n"
     ]
    }
   ],
   "source": [
    "cnn = NN().to(device)\n",
    "\n",
    "criterion = nn.CrossEntropyLoss()\n",
    "optimizer = optim.Adam(cnn.parameters(), lr=1e-3)\n",
    "\n",
    "mnist_scores = []\n",
    "fashion_scores = []\n",
    "fashion_losses = []\n",
    "\n",
    "# MNIST\n",
    "if mnist:\n",
    "    print(\"--- MNIST ---\")\n",
    "    cnn.train()\n",
    "    for epoch in range(mnist_epochs):\n",
    "        for _, (X_batch, y_batch) in enumerate(mnist_train_dataloader):\n",
    "            optimizer.zero_grad()\n",
    "            output = cnn(X_batch.to(device))\n",
    "            loss = criterion(output, y_batch.to(device))\n",
    "            loss.backward()\n",
    "            optimizer.step()\n",
    "\n",
    "        print(f\"Epoch {epoch} - loss\", loss.item())\n",
    "        mnist_scores.append(evaluate_mnist(verbose=0))\n",
    "        fashion_scores.append(evaluate_fashion(verbose=0))\n",
    "\n",
    "    print(\"--- Scores ---\")\n",
    "    evaluate_fashion()\n",
    "    evaluate_mnist()\n",
    "\n",
    "# FashionMNIST\n",
    "if fashion:\n",
    "    print(\"--- FashionMNIST ---\")\n",
    "\n",
    "    cnn.train()\n",
    "    for epoch in range(fashion_epochs):\n",
    "        for _, (X_batch, y_batch) in enumerate(fashion_train_dataloader):\n",
    "            optimizer.zero_grad()\n",
    "            output = cnn(X_batch.to(device))\n",
    "            loss = criterion(output, y_batch.to(device))\n",
    "            loss.backward()\n",
    "            optimizer.step()\n",
    "\n",
    "        print(f\"Epoch {epoch} - loss\", loss.item())\n",
    "        fashion_losses.append(loss.item())\n",
    "        mnist_scores.append(evaluate_mnist(verbose=0))\n",
    "        fashion_scores.append(evaluate_fashion(verbose=0))\n",
    "\n",
    "    print(\"--- Scores ---\")\n",
    "    evaluate_mnist()\n",
    "    evaluate_fashion()"
   ],
   "metadata": {
    "colab": {
     "base_uri": "https://localhost:8080/"
    },
    "id": "_o40jLT5Xa_a",
    "outputId": "a33da1ee-bcd7-41cd-ace6-2e36cf8a456d"
   }
  },
  {
   "cell_type": "code",
   "execution_count": null,
   "outputs": [
    {
     "output_type": "display_data",
     "data": {
      "text/plain": [
       "<Figure size 432x288 with 1 Axes>"
      ],
      "image/png": "[encoded data removed]"
     },
     "metadata": {
      "needs_background": "light"
     }
    }
   ],
   "source": [
    "plt.figure()\n",
    "plt.plot(mnist_scores, label=\"MNIST\")\n",
    "plt.plot(fashion_scores, label=\"FashionMNIST\")\n",
    "plt.bar(mnist_epochs - 1, height=1, width=0.2, color=\"r\")\n",
    "plt.xlabel(\"Epoch\")\n",
    "plt.ylabel(\"F1 score\")\n",
    "plt.legend()\n",
    "plt.savefig(\"catastrophic_forgetting.png\")\n",
    "plt.show()"
   ],
   "metadata": {
    "colab": {
     "base_uri": "https://localhost:8080/",
     "height": 279
    },
    "id": "-3_M4TiVXa_b",
    "outputId": "6de24fe9-e081-484d-c52f-484df14354f2"
   }
  },
  {
   "cell_type": "code",
   "execution_count": null,
   "outputs": [],
   "source": [],
   "metadata": {
    "id": "q4MerX52Xa_c"
   }
  }
 ],
 "metadata": {
  "kernelspec": {
   "display_name": "Python 3",
   "language": "python",
   "name": "python3"
  },
  "language_info": {
   "codemirror_mode": {
    "name": "ipython",
    "version": 2
   },
   "file_extension": ".py",
   "mimetype": "text/x-python",
   "name": "python",
   "nbconvert_exporter": "python",
   "pygments_lexer": "ipython2",
   "version": "2.7.6"
  },
  "colab": {
   "provenance": []
  },
  "accelerator": "GPU",
  "gpuClass": "standard"
 },
 "nbformat": 4,
 "nbformat_minor": 0
}
