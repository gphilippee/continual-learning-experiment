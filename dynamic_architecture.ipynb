{
 "cells": [
  {
   "cell_type": "markdown",
   "source": [
    "# CL - Dynamic architectures\n",
    "\n",
    "A small experiment with a convolutional network on MNIST and FashionMNIST datasets. The goal is to train the network on MNIST and then on FashionMNIST. The network should be able to learn both datasets without forgetting the first one.\n",
    "\n",
    "In this notebook, we try a method called \"Dynamic architectures\". For sake of simplicity, the network will have 2 output layers, one for MNIST and one for FashionMNIST. The code for a real dynamical architecture is much more complex."
   ],
   "metadata": {
    "collapsed": false
   }
  },
  {
   "cell_type": "code",
   "execution_count": 1,
   "metadata": {
    "collapsed": true
   },
   "outputs": [],
   "source": [
    "import torch\n",
    "from torch import nn, optim\n",
    "import torchvision\n",
    "from torch.utils.data import DataLoader\n",
    "import matplotlib.pyplot as plt\n",
    "from sklearn.metrics import f1_score, log_loss"
   ]
  },
  {
   "cell_type": "code",
   "execution_count": 2,
   "outputs": [],
   "source": [
    "subsample = 10_000\n",
    "batch_size = 128\n",
    "mnist_epochs = 5\n",
    "fashion_epochs = 5\n",
    "mnist = True\n",
    "fashion = True"
   ],
   "metadata": {
    "collapsed": false
   }
  },
  {
   "cell_type": "code",
   "execution_count": 3,
   "outputs": [
    {
     "name": "stdout",
     "output_type": "stream",
     "text": [
      "torch.Size([60000, 28, 28])\n"
     ]
    }
   ],
   "source": [
    "# import MNIST\n",
    "train_data = torchvision.datasets.MNIST(\n",
    "    root=\"./mnist\",\n",
    "    train=True,\n",
    "    transform=torchvision.transforms.ToTensor(),\n",
    "    download=True,\n",
    ")\n",
    "test_data = torchvision.datasets.MNIST(\n",
    "    root=\"./mnist\",\n",
    "    train=False,\n",
    "    transform=torchvision.transforms.ToTensor(),\n",
    "    download=True,\n",
    ")\n",
    "\n",
    "print(train_data.data.shape)\n",
    "\n",
    "# sample subsample images\n",
    "# train_data = torch.utils.data.Subset(train_data, range(subsample))\n",
    "# test_data = torch.utils.data.Subset(test_data, range(subsample))\n",
    "mnist_train_dataloader = DataLoader(train_data, batch_size=batch_size, shuffle=True)\n",
    "mnist_test_dataloader = DataLoader(test_data, batch_size=batch_size, shuffle=True)"
   ],
   "metadata": {
    "collapsed": false
   }
  },
  {
   "cell_type": "code",
   "execution_count": 4,
   "outputs": [
    {
     "name": "stdout",
     "output_type": "stream",
     "text": [
      "torch.Size([60000, 28, 28])\n"
     ]
    }
   ],
   "source": [
    "# import FashionMNIST\n",
    "train_data = torchvision.datasets.FashionMNIST(\n",
    "    root=\"./fashion\",\n",
    "    train=True,\n",
    "    transform=torchvision.transforms.ToTensor(),\n",
    "    download=True,\n",
    ")\n",
    "test_data = torchvision.datasets.FashionMNIST(\n",
    "    root=\"./fashion\",\n",
    "    train=False,\n",
    "    transform=torchvision.transforms.ToTensor(),\n",
    "    download=True,\n",
    ")\n",
    "\n",
    "print(train_data.data.shape)\n",
    "\n",
    "# sample subsample images\n",
    "# train_data = torch.utils.data.Subset(train_data, range(subsample))\n",
    "# test_data = torch.utils.data.Subset(test_data, range(subsample))\n",
    "fashion_train_dataloader = DataLoader(train_data, batch_size=batch_size, shuffle=True)\n",
    "fashion_test_dataloader = DataLoader(test_data, batch_size=batch_size, shuffle=True)"
   ],
   "metadata": {
    "collapsed": false
   }
  },
  {
   "cell_type": "code",
   "execution_count": 5,
   "outputs": [],
   "source": [
    "class CNN(nn.Module):\n",
    "    def __init__(self):\n",
    "        super().__init__()\n",
    "        self.conv1 = nn.Conv2d(1, 16, 3)\n",
    "        self.conv2 = nn.Conv2d(16, 32, 3)\n",
    "        self.max_pool = nn.MaxPool2d(2)\n",
    "        self.fc1 = nn.Linear(12 * 12 * 32, 128)\n",
    "        self.fc2 = nn.Linear(128, 10)\n",
    "        self.fc3 = nn.Linear(128, 10)\n",
    "        self.drop = nn.Dropout(0.5)\n",
    "\n",
    "    def forward(self, x):\n",
    "        # convolutions\n",
    "        x = self.conv1(x)\n",
    "        x = self.max_pool(self.conv2(x))\n",
    "        # classifier - MNIST\n",
    "        x = x.view(-1, 12 * 12 * 32)\n",
    "        x = torch.relu(self.fc1(x))\n",
    "        x = self.drop(x)\n",
    "        return torch.softmax(self.fc2(x), dim=1), torch.softmax(self.fc3(x), dim=1)"
   ],
   "metadata": {
    "collapsed": false
   }
  },
  {
   "cell_type": "code",
   "execution_count": 6,
   "outputs": [],
   "source": [
    "def evaluate_mnist(verbose=1):\n",
    "    cnn.eval()\n",
    "    # evaluate on test set and calculate f1 score\n",
    "    y_pred = torch.empty(0, dtype=torch.long)\n",
    "    y_test = torch.empty(0, dtype=torch.long)\n",
    "    for _, (X_batch, y_batch) in enumerate(mnist_test_dataloader):\n",
    "        output, _ = cnn(X_batch)\n",
    "        y_pred = torch.cat((y_pred, torch.argmax(output, dim=1)))\n",
    "        y_test = torch.cat((y_test, y_batch))\n",
    "    if verbose:\n",
    "        print(\"MNIST - F1 score\", f1_score(y_test, y_pred, average=\"macro\"))\n",
    "    return f1_score(y_test, y_pred, average=\"macro\")"
   ],
   "metadata": {
    "collapsed": false
   }
  },
  {
   "cell_type": "code",
   "execution_count": 7,
   "outputs": [],
   "source": [
    "def evaluate_fashion(verbose=1):\n",
    "    cnn.eval()\n",
    "    # evaluate on test set and calculate f1 score\n",
    "    y_pred = torch.empty(0, dtype=torch.long)\n",
    "    y_test = torch.empty(0, dtype=torch.long)\n",
    "    for _, (X_batch, y_batch) in enumerate(fashion_test_dataloader):\n",
    "        _, output = cnn(X_batch)\n",
    "        y_pred = torch.cat((y_pred, torch.argmax(output, dim=1)))\n",
    "        y_test = torch.cat((y_test, y_batch))\n",
    "    if verbose:\n",
    "        print(\"Fashion - F1 score\", f1_score(y_test, y_pred, average=\"macro\"))\n",
    "    return f1_score(y_test, y_pred, average=\"macro\")"
   ],
   "metadata": {
    "collapsed": false
   }
  },
  {
   "cell_type": "code",
   "execution_count": 8,
   "outputs": [
    {
     "name": "stdout",
     "output_type": "stream",
     "text": [
      "--- MNIST ---\n",
      "Epoch 0 - loss 1.5311737060546875\n",
      "Epoch 1 - loss 1.4860140085220337\n",
      "Epoch 2 - loss 1.49577796459198\n",
      "Epoch 3 - loss 1.5007638931274414\n",
      "Epoch 4 - loss 1.4911490678787231\n",
      "--- Scores ---\n",
      "Fashion - F1 score 0.07293097503782722\n",
      "MNIST - F1 score 0.9753703116357784\n"
     ]
    }
   ],
   "source": [
    "cnn = CNN()\n",
    "\n",
    "criterion = nn.CrossEntropyLoss()\n",
    "optimizer = optim.Adam(cnn.parameters(), lr=1e-3)\n",
    "\n",
    "mnist_scores = []\n",
    "fashion_scores = []\n",
    "\n",
    "# MNIST\n",
    "if mnist:\n",
    "    print(\"--- MNIST ---\")\n",
    "    cnn.train()\n",
    "    for epoch in range(mnist_epochs):\n",
    "        for _, (X_batch, y_batch) in enumerate(mnist_train_dataloader):\n",
    "            optimizer.zero_grad()\n",
    "            output, _ = cnn(X_batch)\n",
    "            loss = criterion(output, y_batch)\n",
    "            loss.backward()\n",
    "            optimizer.step()\n",
    "\n",
    "        print(f\"Epoch {epoch} - loss\", loss.item())\n",
    "        mnist_scores.append(evaluate_mnist(verbose=0))\n",
    "        fashion_scores.append(evaluate_fashion(verbose=0))\n",
    "\n",
    "    print(\"--- Scores ---\")\n",
    "    evaluate_fashion()\n",
    "    evaluate_mnist()"
   ],
   "metadata": {
    "collapsed": false
   }
  },
  {
   "cell_type": "code",
   "execution_count": 9,
   "outputs": [
    {
     "name": "stdout",
     "output_type": "stream",
     "text": [
      "--- FashionMNIST ---\n",
      "Epoch 0 - loss 1.7043066024780273\n",
      "Epoch 1 - loss 1.6495434045791626\n",
      "Epoch 2 - loss 1.5583786964416504\n",
      "Epoch 3 - loss 1.6338475942611694\n",
      "Epoch 4 - loss 1.5488766431808472\n",
      "--- Scores ---\n",
      "MNIST - F1 score 0.8513060108282048\n",
      "Fashion - F1 score 0.8819560440436046\n"
     ]
    }
   ],
   "source": [
    "# FashionMNIST\n",
    "if fashion:\n",
    "    print(\"--- FashionMNIST ---\")\n",
    "\n",
    "    cnn.train()\n",
    "    for epoch in range(fashion_epochs):\n",
    "        for _, (X_batch, y_batch) in enumerate(fashion_train_dataloader):\n",
    "            optimizer.zero_grad()\n",
    "            _, output = cnn(X_batch)\n",
    "            loss = criterion(output, y_batch)\n",
    "            loss.backward()\n",
    "            optimizer.step()\n",
    "\n",
    "        print(f\"Epoch {epoch} - loss\", loss.item())\n",
    "        mnist_scores.append(evaluate_mnist(verbose=0))\n",
    "        fashion_scores.append(evaluate_fashion(verbose=0))\n",
    "\n",
    "    print(\"--- Scores ---\")\n",
    "    evaluate_mnist()\n",
    "    evaluate_fashion()"
   ],
   "metadata": {
    "collapsed": false
   }
  },
  {
   "cell_type": "code",
   "execution_count": 12,
   "outputs": [
    {
     "data": {
      "text/plain": "<Figure size 640x480 with 1 Axes>",
      "image/png": "[encoded data removed]"
     },
     "metadata": {},
     "output_type": "display_data"
    }
   ],
   "source": [
    "plt.figure()\n",
    "plt.plot(mnist_scores, label=\"MNIST\")\n",
    "plt.plot(fashion_scores, label=\"FashionMNIST\")\n",
    "plt.bar(mnist_epochs - 1, height=1, width=0.2, color=\"r\")\n",
    "plt.xlabel(\"Epoch\")\n",
    "plt.ylabel(\"F1 score\")\n",
    "plt.legend()\n",
    "plt.savefig(\"figures/cnn_dynamic_architecture.png\")\n",
    "plt.show()"
   ],
   "metadata": {
    "collapsed": false
   }
  }
 ],
 "metadata": {
  "kernelspec": {
   "display_name": "Python 3",
   "language": "python",
   "name": "python3"
  },
  "language_info": {
   "codemirror_mode": {
    "name": "ipython",
    "version": 2
   },
   "file_extension": ".py",
   "mimetype": "text/x-python",
   "name": "python",
   "nbconvert_exporter": "python",
   "pygments_lexer": "ipython2",
   "version": "2.7.6"
  }
 },
 "nbformat": 4,
 "nbformat_minor": 0
}
